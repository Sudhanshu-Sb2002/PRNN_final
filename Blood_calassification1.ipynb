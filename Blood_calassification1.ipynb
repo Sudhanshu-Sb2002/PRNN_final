{
 "cells": [
  {
   "cell_type": "markdown",
   "metadata": {
    "collapsed": true,
    "pycharm": {
     "name": "#%% md\n"
    }
   },
   "source": [
    "<h1>Blood Classsifcation </h1>"
   ]
  },
  {
   "cell_type": "code",
   "execution_count": 6,
   "outputs": [],
   "source": [
    "#if some ipynb output is not as expected, that measn that the code was modified and run on a .py file and the modified code was pasted back into the ipynb file\n",
    "import math\n",
    "import matplotlib as mpl\n",
    "import matplotlib.pyplot as plt\n",
    "import numpy\n",
    "import numpy as np\n",
    "import sklearn.metrics as metrics\n",
    "from PRNN_final.LinearRegression import regression_classifier\n",
    "from scipy.io import wavfile\n",
    "\n",
    "import os\n",
    "\n",
    "import gc\n",
    "from PRNN_final.knn import knn_naive"
   ],
   "metadata": {
    "collapsed": false,
    "pycharm": {
     "name": "#%%\n"
    }
   }
  },
  {
   "cell_type": "markdown",
   "source": [
    "Lets import the required data and preprocess it"
   ],
   "metadata": {
    "collapsed": false,
    "pycharm": {
     "name": "#%% md\n"
    }
   }
  },
  {
   "cell_type": "code",
   "execution_count": 7,
   "outputs": [],
   "source": [
    "def normalize_images(images: np):\n",
    "    new_images = np.zeros((images.shape[0], images.shape[1] * images.shape[2] * images.shape[3]))\n",
    "    for i in range(images.shape[0]):\n",
    "        new_images[i] = images[i].flatten()\n",
    "    new_images = new_images.astype(np.float32)\n",
    "    new_images /= 255.0\n",
    "    return new_images\n",
    "\n",
    "\n",
    "def load_input(inputpath):\n",
    "    folder = np.load(inputpath)\n",
    "    files = folder.files\n",
    "    # print(files)\n",
    "    # First we load the images and the labels\n",
    "    un_train_images = folder['train_images.npy']\n",
    "    un_val_images = folder['val_images.npy']\n",
    "    un_test_images = folder['test_images.npy']\n",
    "    train_labels = folder['train_labels.npy']\n",
    "    val_labels = folder['val_labels.npy']\n",
    "    test_labels = folder['test_labels.npy']\n",
    "    # Then we normalize the images\n",
    "    train_images = normalize_images(un_train_images)\n",
    "    val_images = normalize_images(un_val_images)\n",
    "    test_images = normalize_images(un_test_images)\n",
    "    return train_images, val_images, test_images, train_labels, val_labels, test_labels\n",
    "\n",
    "def one_hot_encoding(labels):\n",
    "    one_hot_labels = numpy.zeros((labels.shape[0], 8))\n",
    "    for i in range(labels.shape[0]):\n",
    "        one_hot_labels[i][labels[i]] = 1\n",
    "    return one_hot_labels\n",
    "\n",
    "def plotter(x_graph, ACCscores, F1scores, title, xlabel,*,first=False):\n",
    "\n",
    "\n",
    "    plt.plot(x_graph, ACCscores,alpha=0.5 )\n",
    "    plt.plot(x_graph, F1scores,alpha=0.5)\n",
    "\n",
    "    plt.scatter(x_graph, ACCscores,s=6)\n",
    "    plt.scatter(x_graph, F1scores,s=6)\n",
    "\n",
    "    plt.xlabel(xlabel)\n",
    "\n",
    "    plt.title(title)\n",
    "    plt.ylim(0.5,1)\n",
    "    plt.grid(True, which='major')\n",
    "    plt.grid(True, which='minor',linestyle='--',linewidth=0.2)\n",
    "    plt.minorticks_on()\n",
    "\n",
    "    if first:\n",
    "        plt.figlegend([ 'ACC', 'F1'])"
   ],
   "metadata": {
    "collapsed": false,
    "pycharm": {
     "name": "#%%\n"
    }
   }
  },
  {
   "cell_type": "code",
   "execution_count": 8,
   "outputs": [],
   "source": [
    "class Trainer:\n",
    "    def __init__(self):\n",
    "        self.Logistic_trained = False\n",
    "        self.MSE_reg_trained = False\n",
    "\n",
    "    def MSE_Train(self, data, labels):\n",
    "        self.MSE_w = np.matmul(np.matmul(np.linalg.inv(np.matmul(np.transpose(data), data)),np.transpose(data)),labels)\n",
    "\n",
    "    def MSE_Return(self, x):\n",
    "        return round(np.matmul(np.transpose(self.MSE_w), x))\n",
    "\n",
    "    def MSE_L2_Train(self, data, labels, penalty):\n",
    "        identity = np.identity(len(data[0]))\n",
    "        self.MSE_reg_w = np.matmul(np.linalg.inv(np.matmul(np.transpose(data),data)+penalty*identity),np.matmul(np.transpose(data),labels))\n",
    "\n",
    "    def MSE_L2_Return(self, x):\n",
    "        return round(np.matmul(np.transpose(self.MSE_reg_w), x))\n",
    "\n",
    "    def Poly_Kernelise(self, x, degree):\n",
    "        poly_x = [1]\n",
    "        for i in range(degree):\n",
    "            for j in range(len(x)-1):\n",
    "                poly_x.append(x[j]**(i+1))\n",
    "        return poly_x\n",
    "\n",
    "    def Poly_MSE_Train(self, data, labels, degree):\n",
    "        data1 = []\n",
    "        for i in range(len(data)):\n",
    "            data1.append(self.Poly_Kernelise(data[i], degree))\n",
    "        self.Poly_MSE_w = np.matmul(np.matmul(np.linalg.inv(np.matmul(np.transpose(data1), data1)),np.transpose(data1)),labels)\n",
    "\n",
    "    def Poly_MSE_Return(self, x, degree):\n",
    "        x = self.Poly_Kernelise(x, degree)\n",
    "        return round(np.matmul(np.transpose(self.Poly_MSE_w), x))\n",
    "\n",
    "\n",
    "    def Poly_MSE_L2_Train(self, data, labels, degree, penalty):\n",
    "        for i in range(len(data)):\n",
    "            data[i] = self.PolyKernelise(data[i], degree)\n",
    "        identity = np.identity(len(data[0]))\n",
    "        self.Poly_MSE_reg_w = np.matmul(np.inv(np.matmul(np.transpose(data),data)+penalty*identity),np.matmul(np.transpose(data),labels))\n",
    "\n",
    "    def Poly_MSE_L2_Return(self, x, degree):\n",
    "        x = self.Poly_Kernelise(x, degree)\n",
    "        return round(np.matmul(np.transpose(self.Poly_MSE_reg_w), x))\n",
    "\n",
    "    def Gradient(self, x, function):\n",
    "        x = np.array(x)\n",
    "        nonzero_x = []\n",
    "        for ii in x:\n",
    "            if ii:\n",
    "                nonzero_x.append(ii)\n",
    "        nonzero_x = np.array(nonzero_x)\n",
    "        if not len(nonzero_x):\n",
    "            LC = 0.001\n",
    "        else:\n",
    "            LC = min(np.absolute(nonzero_x))/100\n",
    "        grad = np.zeros(len(x))\n",
    "        fx = function(x)\n",
    "        for i in range(len(x)):\n",
    "            y = x\n",
    "            y[i] += LC\n",
    "            grad[i] = (function(y)-fx)/LC\n",
    "        return grad\n",
    "\n",
    "    def Batchify(self, data, labels, batchsize):\n",
    "        z = np.ones(len(labels), dtype=np.int)\n",
    "        for i in range(len(z)):\n",
    "            z[i] = i\n",
    "        data1 = []\n",
    "        labels1 = []\n",
    "        z = np.random.choice(z, int(batchsize))\n",
    "        for ii in z:\n",
    "            data1.append(data[ii])\n",
    "            labels1.append(labels[ii])\n",
    "        return data1, labels1\n",
    "\n",
    "    def Logistic_Train(self, data, labels,test_images, rate, iterations,x_pred, penaltyL1=0, penaltyL2=0):\n",
    "        def Gradient(w):\n",
    "            data1, labels1 = self.Batchify(data, labels, 100)\n",
    "            exps = np.zeros(len(data1))\n",
    "            for i in range(len(data1)):\n",
    "                exps[i] = np.exp(np.dot(w,data1[i]))\n",
    "\n",
    "            coeffs = 2*(labels1-1/exps)*(1/exps)\n",
    "            grad = np.transpose(np.matmul(coeffs,data1)) +penaltyL1*np.sign(w) + penaltyL2*w\n",
    "            gradmax = max(np.absolute(grad))\n",
    "            if gradmax:\n",
    "                return grad/gradmax\n",
    "            else:\n",
    "                return grad\n",
    "\n",
    "        if not self.Logistic_trained:\n",
    "            self.Logistic_w = np.ones((len(data[0]),len(labels[0])))/(len(data[0])**7)\n",
    "            self.Logistic_trained = True\n",
    "        for i in range(iterations):\n",
    "            self.Logistic_w += -rate*Gradient(self.Logistic_w)\n",
    "        return self.Logistic_Return(test_images)\n",
    "\n",
    "    def Logistic_Return(self, x):\n",
    "        return np.matmul(np.transpose(self.Logistic_w), x)\n",
    "\n",
    "    def MSE_reg_Train(self, data, labels, rate, iterations, penaltyL1, penaltyL2):\n",
    "        def Gradient(w):\n",
    "            data1, labels1 = self.Batchify(data, labels, 100)\n",
    "            coeffs = np.zeros(len(data1))\n",
    "            for i in range(len(data1)):\n",
    "                coeffs[i] = 2*(labels1[i] - np.dot(w,data1[i]))\n",
    "            grad = np.transpose(np.matmul(coeffs,data1)) + penaltyL1*np.sign(w) + penaltyL2*w\n",
    "            gradmax = max(np.absolute(grad))\n",
    "            if gradmax:\n",
    "                return grad/gradmax\n",
    "            else:\n",
    "                return grad\n",
    "\n",
    "        if not self.MSE_reg_trained:\n",
    "            self.MSE_L1_w = np.ones(len(data[0]))/(len(data[0])**7)\n",
    "            self.MSE_reg_trained = True\n",
    "        for i in range(iterations):\n",
    "            self.MSE_L1_w += -rate*Gradient(self.MSE_L1_w)\n",
    "\n",
    "    def MSE_reg_Return(self, x):\n",
    "        return round(np.matmul(np.transpose(self.MSE_L1_w), x))\n",
    "\n",
    "    def FLDM_Train(self, data, labels):\n",
    "        data_0 = []\n",
    "        data_1 = []\n",
    "        for i in range(len(labels)):\n",
    "            if labels[i]:\n",
    "                data_1.append(data[i])\n",
    "            else:\n",
    "                data_0.append(data[i])\n",
    "        data_0 = np.array(data_0)\n",
    "        data_1 = np.array(data_1)\n",
    "        mu_0 = sum(data_0)/len(data_0)\n",
    "        mu_1 = sum(data_1)/len(data_1)\n",
    "\n",
    "        S_w = np.zeros([len(data[0]),len(data[0])])\n",
    "        #for i in data_0:\n",
    "        #    S_w += np.outer(i-mu_0, i-mu_0)\n",
    "        #for i in data_1:\n",
    "        #    S_w += np.outer(i-mu_1, i-mu_1)\n",
    "        S_w = np.cov(data_0.T) + np.cov(data_1.T)\n",
    "\n",
    "        success = False\n",
    "        lamb = 0.01\n",
    "        while not success:\n",
    "            try:\n",
    "                self.FLDM_w = np.linalg.inv(S_w+lamb*np.identity(np.size(S_w))).dot(mu_0 - mu_1)\n",
    "                success = True\n",
    "            except:\n",
    "                lamb = lamb*2\n",
    "                print('Trying lambda: ',lamb)\n",
    "\n",
    "    def FLDM_Return(self, x):\n",
    "        if (np.matmul(np.transpose(self.FLDM_w), x)) > 0:\n",
    "            return 1\n",
    "        else:\n",
    "            return 0\n",
    "\n"
   ],
   "metadata": {
    "collapsed": false,
    "pycharm": {
     "name": "#%%\n"
    }
   }
  },
  {
   "cell_type": "code",
   "execution_count": 9,
   "outputs": [],
   "source": [
    "path=\"bloodmnist.npz\"\n",
    "train_images, val_images, test_images, train_labels, val_labels, test_labels = load_input(path)\n",
    "best_methods_AUC=dict()\n",
    "best_methods_ACC=dict()"
   ],
   "metadata": {
    "collapsed": false,
    "pycharm": {
     "name": "#%%\n"
    }
   }
  },
  {
   "cell_type": "markdown",
   "source": [
    "<h2> KNN Classifier </h2>"
   ],
   "metadata": {
    "collapsed": false,
    "pycharm": {
     "name": "#%% md\n"
    }
   }
  },
  {
   "cell_type": "code",
   "execution_count": 10,
   "outputs": [],
   "source": [
    "def knn_naive(X_train, Y_train, X_test, *, k=5, metric=2):\n",
    "    # First we difeine a small function to return the k smallet elements of an array\n",
    "    def k_smallest(arr, k):\n",
    "        x = []\n",
    "        min = np.inf\n",
    "        pos_min = -1\n",
    "        for i in range(k):\n",
    "            for i in range(len(arr)):\n",
    "                if arr[i] < min and i not in x:\n",
    "                    min = arr[i]\n",
    "                    pos_min = i\n",
    "            if pos_min != -1:\n",
    "                x.append(pos_min)\n",
    "                min = np.inf\n",
    "                pos_min = -1\n",
    "        return x\n",
    "\n",
    "    Y_test_predicted = np.zeros((X_test.shape[0], 1))\n",
    "    if k == 0:\n",
    "        return Y_test_predicted\n",
    "    for i in range(X_test.shape[0]):\n",
    "        distances = np.linalg.norm(np.abs(X_train - X_test[i, :]), ord=metric, axis=1)\n",
    "\n",
    "        nearest = k_smallest(distances, k)\n",
    "        topk_y = [i[0] for i in Y_train[nearest[:k]]]\n",
    "        Y_test_predicted[i] = [np.argmax(np.bincount(topk_y))]\n",
    "\n",
    "    return Y_test_predicted"
   ],
   "metadata": {
    "collapsed": false,
    "pycharm": {
     "name": "#%%\n"
    }
   }
  },
  {
   "cell_type": "code",
   "execution_count": 13,
   "outputs": [
    {
     "name": "stdout",
     "output_type": "stream",
     "text": [
      "1 1 0.6974568839520608\n",
      "5 1 0.7462730195849167\n",
      "9 1 0.7614732534346682\n",
      "13 1 0.7617655656240865\n",
      "17 1 0.7664425606547793\n",
      "21 1 0.7629348143817597\n"
     ]
    }
   ],
   "source": [
    "k_max=25\n",
    "no_of_tests=2\n",
    "x_graph = np.zeros((no_of_tests,k_max//4))\n",
    "\n",
    "ACCscores = np.zeros(x_graph.shape)\n",
    "F1scores = np.zeros(x_graph.shape)\n",
    "\n",
    "for j in range(2,no_of_tests+1):\n",
    "    metric=j\n",
    "    for k in range(1,k_max,4):\n",
    "        test_pred = knn_naive(train_images, train_labels, test_images, k=k, metric=metric)\n",
    "        x_graph[j-1,k//4] = k\n",
    "        F1scores[j-1,k//4] =metrics.f1_score(test_labels,test_pred,average='weighted')\n",
    "        ACCscores[j-1,k//4] =metrics.accuracy_score(test_labels,test_pred)\n",
    "        print(k, j-1,metrics.accuracy_score(test_labels,test_pred))\n",
    "        #AUCscores[j,k] =metrics.roc_auc_score(test_labels,test_pred,multi_class='ovr')\n"
   ],
   "metadata": {
    "collapsed": false,
    "pycharm": {
     "name": "#%%\n"
    }
   }
  },
  {
   "cell_type": "code",
   "execution_count": 16,
   "outputs": [
    {
     "ename": "IndexError",
     "evalue": "index 2 is out of bounds for axis 0 with size 2",
     "output_type": "error",
     "traceback": [
      "\u001B[1;31m---------------------------------------------------------------------------\u001B[0m",
      "\u001B[1;31mIndexError\u001B[0m                                Traceback (most recent call last)",
      "\u001B[1;32m~\\AppData\\Local\\Temp/ipykernel_58404/3840697050.py\u001B[0m in \u001B[0;36m<module>\u001B[1;34m\u001B[0m\n\u001B[0;32m      3\u001B[0m     \u001B[0mmetric\u001B[0m\u001B[1;33m=\u001B[0m\u001B[0mj\u001B[0m\u001B[1;33m+\u001B[0m\u001B[1;36m1\u001B[0m\u001B[1;33m\u001B[0m\u001B[1;33m\u001B[0m\u001B[0m\n\u001B[0;32m      4\u001B[0m \u001B[1;33m\u001B[0m\u001B[0m\n\u001B[1;32m----> 5\u001B[1;33m     \u001B[0mplotter\u001B[0m\u001B[1;33m(\u001B[0m\u001B[0mx_graph\u001B[0m\u001B[1;33m[\u001B[0m\u001B[0mj\u001B[0m\u001B[1;33m]\u001B[0m\u001B[1;33m,\u001B[0m\u001B[0mACCscores\u001B[0m\u001B[1;33m[\u001B[0m\u001B[0mj\u001B[0m\u001B[1;33m]\u001B[0m\u001B[1;33m,\u001B[0m\u001B[0mF1scores\u001B[0m\u001B[1;33m[\u001B[0m\u001B[0mj\u001B[0m\u001B[1;33m]\u001B[0m\u001B[1;33m,\u001B[0m\u001B[0mstr\u001B[0m\u001B[1;33m(\u001B[0m\u001B[0mmetric\u001B[0m\u001B[1;33m)\u001B[0m\u001B[1;33m+\u001B[0m\u001B[1;34m\" norm\"\u001B[0m\u001B[1;33m,\u001B[0m\u001B[1;34m\"K value\"\u001B[0m\u001B[1;33m,\u001B[0m\u001B[0mfirst\u001B[0m\u001B[1;33m=\u001B[0m\u001B[1;33m(\u001B[0m\u001B[0mj\u001B[0m\u001B[1;33m==\u001B[0m\u001B[1;36m0\u001B[0m\u001B[1;33m)\u001B[0m\u001B[1;33m)\u001B[0m\u001B[1;33m\u001B[0m\u001B[1;33m\u001B[0m\u001B[0m\n\u001B[0m\u001B[0;32m      6\u001B[0m     \u001B[0mplt\u001B[0m\u001B[1;33m.\u001B[0m\u001B[0mxticks\u001B[0m\u001B[1;33m(\u001B[0m\u001B[0mnp\u001B[0m\u001B[1;33m.\u001B[0m\u001B[0mlinspace\u001B[0m\u001B[1;33m(\u001B[0m\u001B[1;36m0\u001B[0m\u001B[1;33m,\u001B[0m \u001B[0mk_max\u001B[0m\u001B[1;33m,\u001B[0m \u001B[1;36m5\u001B[0m\u001B[1;33m)\u001B[0m\u001B[1;33m)\u001B[0m\u001B[1;33m\u001B[0m\u001B[1;33m\u001B[0m\u001B[0m\n\u001B[0;32m      7\u001B[0m \u001B[1;33m\u001B[0m\u001B[0m\n",
      "\u001B[1;31mIndexError\u001B[0m: index 2 is out of bounds for axis 0 with size 2"
     ]
    },
    {
     "data": {
      "text/plain": "<Figure size 600x400 with 1 Axes>",
      "image/png": "[encoded data removed]"
     },
     "metadata": {
      "needs_background": "light"
     },
     "output_type": "display_data"
    }
   ],
   "source": [
    "mpl.rcParams['figure.dpi'] = 100\n",
    "for j in range(0,no_of_tests+1):\n",
    "    metric=j+1\n",
    "\n",
    "    plotter(x_graph[j],ACCscores[j],F1scores[j],str(metric)+\" norm\",\"K value\",first=(j==0))\n",
    "    plt.xticks(np.linspace(0, k_max, 5))\n",
    "\n",
    "plt.suptitle(\"KNN for binary classification with different metrics\")\n",
    "plt.tight_layout()\n",
    "\n",
    "#plt.figlegend(['AUC', 'ACC', 'F1'])\n",
    "\n",
    "plt.show()"
   ],
   "metadata": {
    "collapsed": false,
    "pycharm": {
     "name": "#%%\n"
    }
   }
  },
  {
   "cell_type": "code",
   "execution_count": null,
   "outputs": [],
   "source": [
    "print(\"best metrics according to ACC\")\n",
    "count=0\n",
    "for i in np.argsort(ACCscores,axis=None,)[-3:]:\n",
    "    best_metric,best_k =int( i//k_max), int(i%k_max    )\n",
    "    best_score = ACCscores[int(best_metric)][int(best_k)]\n",
    "    if best_metric==0:\n",
    "        best_metric =-math.inf\n",
    "    elif best_metric==no_of_tests-1:\n",
    "        best_metric = math.inf\n",
    "    print('\\t'+str(3-count)+\" best metric is \", best_metric,\"(k=\",best_k,\")with a score of \",best_score)\n",
    "    if 3-count==1:\n",
    "        best_methods_AUC[\"KNN\" + \"(metric=\" + str(best_metric) + \", k=\" + str(best_k)]=best_score\n",
    "    count+=1\n",
    "%reset_selective -f AUCscores ACCscores F1scores x_graph k_max no_of_tests metric j k test_pred best_metric best_k best_score"
   ],
   "metadata": {
    "collapsed": false,
    "pycharm": {
     "name": "#%%\n"
    }
   }
  },
  {
   "cell_type": "markdown",
   "source": [
    "<h2>Linear Regression </h2>\n"
   ],
   "metadata": {
    "collapsed": false,
    "pycharm": {
     "name": "#%% md\n"
    }
   }
  },
  {
   "cell_type": "code",
   "execution_count": null,
   "outputs": [],
   "source": [
    "train_labels1 = one_hot_encoding(train_labels)\n",
    "test_labels1 = one_hot_encoding(test_labels)\n",
    "\n",
    "k_max=20\n",
    "\n",
    "x_graph = np.zeros(k_max)\n",
    "AUCscores = np.zeros(x_graph.shape)\n",
    "ACCscores = np.zeros(x_graph.shape)\n",
    "F1scores = np.zeros(x_graph.shape)\n",
    "\n",
    "for k in range(0, k_max):\n",
    "\n",
    "    y_predonehot = regression_classifier(train_images, train_labels1, test_images, lambda_hyper=100*math.exp(-k))\n",
    "    test_pred=_pred = np.argmax(y_predonehot, axis=1)\n",
    "    x_graph[k] = k\n",
    "    F1scores[k] =metrics.f1_score(test_labels,test_pred,average='weighted')\n",
    "    ACCscores[k] =metrics.accuracy_score(test_labels,test_pred)\n",
    "    print(k,metrics.accuracy_score(test_labels,test_pred))\n",
    "    #AUCscores[j,k] =metrics.roc_auc_score(test_labels,test_pred,multi_class='ovr')"
   ],
   "metadata": {
    "collapsed": false,
    "pycharm": {
     "name": "#%%\n"
    }
   }
  },
  {
   "cell_type": "code",
   "execution_count": null,
   "outputs": [],
   "source": [
    "plotter(x_graph, ACCscores, F1scores, \"Linear CLassifier with L2 regulariser\", \"Regulariser ( $\\lambda $) \")\n",
    "plt.legend([ 'ACC', 'F1']);\n",
    "count = 0\n",
    "print(\"best metrics according to AUC\")\n",
    "for i in np.argsort(AUCscores, axis=None, )[-3:]:\n",
    "\n",
    "    best_score = AUCscores[i]\n",
    "\n",
    "    print('\\t' + str(3 - count) + \" best regulariser is  \", round(x_graph[i], 3), \"With score\", round(best_score, 3))\n",
    "    if 3 - count == 1:\n",
    "        best_methods_AUC[\"Least squares with regulariser \", x_graph[i]] = best_score\n",
    "    count += 1\n",
    "print(\"best metrics according to ACC\")\n",
    "count = 0\n",
    "\n",
    "for i in np.argsort(ACCscores, axis=None, )[-3:]:\n",
    "\n",
    "    best_score = ACCscores[i]\n",
    "\n",
    "    print('\\t' + str(3 - count) + \" best regulariser is  \", round(x_graph[i], 3), \"With score\", round(best_score, 3))\n",
    "    if 3 - count == 1:\n",
    "        best_methods_ACC[\"Least squares with regulariser \", x_graph[i]] = best_score\n",
    "    count += 1\n",
    "\n",
    "% reset_selective -f AUCscores ACCscores F1scores x_graph k_max test_pred  best_s<h2>core"
   ],
   "metadata": {
    "collapsed": false,
    "pycharm": {
     "name": "#%%\n"
    }
   }
  },
  {
   "cell_type": "markdown",
   "source": [
    "<h2>Logistic Regression</h2>\n"
   ],
   "metadata": {
    "collapsed": false,
    "pycharm": {
     "name": "#%% md\n"
    }
   }
  },
  {
   "cell_type": "code",
   "execution_count": null,
   "outputs": [],
   "source": [
    "train_labels1 = one_hot_encoding(train_labels)\n",
    "test_labels1 = one_hot_encoding(test_labels)\n",
    "T=Trainer()\n",
    "t_pos, t_neg, f_pos, f_neg, acc = [],[],[],[],[]\n",
    "T.Logistic_trained = False\n",
    "for i in range(5):\n",
    "    T.Logistic_Train(train_images, train_labels1,test_images, 0.0001, 10**i, 0, 0)\n",
    "\n",
    "\n",
    "plt.plot(range(5), t_pos, label = 'True Positive')\n",
    "plt.plot(range(5), t_neg, label = 'True Negative')\n",
    "plt.plot(range(5), f_pos, label = 'False Positive')\n",
    "plt.plot(range(5), f_neg, label = 'False Negative')\n",
    "plt.plot(range(5), acc, label = 'Accuracy')\n",
    "\n",
    "plt.xlabel('log(Iterations)')\n",
    "plt.ylabel('scoring metrics')\n",
    "plt.legend()\n",
    "plt.show()"
   ],
   "metadata": {
    "collapsed": false,
    "pycharm": {
     "name": "#%%\n"
    }
   }
  },
  {
   "cell_type": "code",
   "execution_count": null,
   "outputs": [],
   "source": [],
   "metadata": {
    "collapsed": false,
    "pycharm": {
     "name": "#%%\n"
    }
   }
  }
 ],
 "metadata": {
  "kernelspec": {
   "display_name": "Python 3",
   "language": "python",
   "name": "python3"
  },
  "language_info": {
   "codemirror_mode": {
    "name": "ipython",
    "version": 2
   },
   "file_extension": ".py",
   "mimetype": "text/x-python",
   "name": "python",
   "nbconvert_exporter": "python",
   "pygments_lexer": "ipython2",
   "version": "2.7.6"
  }
 },
 "nbformat": 4,
 "nbformat_minor": 0
}