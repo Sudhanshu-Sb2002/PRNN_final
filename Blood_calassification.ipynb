{
 "cells": [
  {
   "cell_type": "markdown",
   "metadata": {
    "collapsed": true,
    "pycharm": {
     "name": "#%% md\n"
    }
   },
   "source": [
    "<h1>Blood Classsifcation </h1>"
   ]
  },
  {
   "cell_type": "code",
   "execution_count": 112,
   "outputs": [],
   "source": [
    "#if some ipynb output is not as expected, that measn that the code was modified and run on a .py file and the modified code was pasted back into the ipynb file\n",
    "import math\n",
    "import matplotlib as mpl\n",
    "import matplotlib.pyplot as plt\n",
    "import numpy\n",
    "import numpy as np\n",
    "import sklearn.metrics as metrics\n",
    "from PRNN_final.LinearRegression import regression_classifier\n",
    "from scipy.stats import multivariate_normal\n",
    "from scipy.io import wavfile\n",
    "\n",
    "import os\n",
    "\n",
    "import gc\n",
    "from PRNN_final.knn import knn_naive"
   ],
   "metadata": {
    "collapsed": false,
    "pycharm": {
     "name": "#%%\n"
    }
   }
  },
  {
   "cell_type": "markdown",
   "source": [
    "Lets import the required data and preprocess it"
   ],
   "metadata": {
    "collapsed": false,
    "pycharm": {
     "name": "#%% md\n"
    }
   }
  },
  {
   "cell_type": "code",
   "execution_count": 14,
   "outputs": [],
   "source": [
    "def normalize_images(images: np):\n",
    "    new_images = np.zeros((images.shape[0], images.shape[1] * images.shape[2] * images.shape[3]))\n",
    "    for i in range(images.shape[0]):\n",
    "        new_images[i] = images[i].flatten()\n",
    "    new_images = new_images.astype(np.float32)\n",
    "    new_images /= 255.0\n",
    "    return new_images\n",
    "\n",
    "\n",
    "def load_input(inputpath):\n",
    "    folder = np.load(inputpath)\n",
    "    files = folder.files\n",
    "    # print(files)\n",
    "    # First we load the images and the labels\n",
    "    un_train_images = folder['train_images.npy']\n",
    "    un_val_images = folder['val_images.npy']\n",
    "    un_test_images = folder['test_images.npy']\n",
    "    train_labels = folder['train_labels.npy']\n",
    "    val_labels = folder['val_labels.npy']\n",
    "    test_labels = folder['test_labels.npy']\n",
    "    # Then we normalize the images\n",
    "    train_images = normalize_images(un_train_images)\n",
    "    val_images = normalize_images(un_val_images)\n",
    "    test_images = normalize_images(un_test_images)\n",
    "    return train_images, val_images, test_images, train_labels, val_labels, test_labels\n",
    "\n",
    "def one_hot_encoding(labels):\n",
    "    one_hot_labels = numpy.zeros((labels.shape[0], 8))\n",
    "    for i in range(labels.shape[0]):\n",
    "        one_hot_labels[i][labels[i]] = 1\n",
    "    return one_hot_labels\n",
    "\n",
    "def plotter(x_graph, ACCscores, F1scores, title, xlabel,*,first=False):\n",
    "\n",
    "\n",
    "    plt.plot(x_graph, ACCscores,alpha=0.5 )\n",
    "    plt.plot(x_graph, F1scores,alpha=0.5)\n",
    "\n",
    "    plt.scatter(x_graph, ACCscores,s=6)\n",
    "    plt.scatter(x_graph, F1scores,s=6)\n",
    "\n",
    "    plt.xlabel(xlabel)\n",
    "\n",
    "    plt.title(title)\n",
    "    plt.ylim(0.5,1)\n",
    "    plt.grid(True, which='major')\n",
    "    plt.grid(True, which='minor',linestyle='--',linewidth=0.2)\n",
    "    plt.minorticks_on()\n",
    "\n",
    "    if first:\n",
    "        plt.figlegend([ 'ACC', 'F1'])"
   ],
   "metadata": {
    "collapsed": false,
    "pycharm": {
     "name": "#%%\n"
    }
   }
  },
  {
   "cell_type": "code",
   "execution_count": 55,
   "outputs": [],
   "source": [
    "class Trainer:\n",
    "    def __init__(self):\n",
    "        self.Logistic_trained = False\n",
    "        self.MSE_reg_trained = False\n",
    "\n",
    "    def MSE_Train(self, data, labels):\n",
    "        self.MSE_w = np.matmul(np.matmul(np.linalg.inv(np.matmul(np.transpose(data), data)),np.transpose(data)),labels)\n",
    "\n",
    "    def MSE_Return(self, x):\n",
    "        return round(np.matmul(np.transpose(self.MSE_w), x))\n",
    "\n",
    "    def MSE_L2_Train(self, data, labels, penalty):\n",
    "        identity = np.identity(len(data[0]))\n",
    "        self.MSE_reg_w = np.matmul(np.linalg.inv(np.matmul(np.transpose(data),data)+penalty*identity),np.matmul(np.transpose(data),labels))\n",
    "\n",
    "    def MSE_L2_Return(self, x):\n",
    "        return round(np.matmul(np.transpose(self.MSE_reg_w), x))\n",
    "\n",
    "    def Poly_Kernelise(self, x, degree):\n",
    "        poly_x = [1]\n",
    "        for i in range(degree):\n",
    "            for j in range(len(x)-1):\n",
    "                poly_x.append(x[j]**(i+1))\n",
    "        return poly_x\n",
    "\n",
    "    def Poly_MSE_Train(self, data, labels, degree):\n",
    "        data1 = []\n",
    "        for i in range(len(data)):\n",
    "            data1.append(self.Poly_Kernelise(data[i], degree))\n",
    "        self.Poly_MSE_w = np.matmul(np.matmul(np.linalg.inv(np.matmul(np.transpose(data1), data1)),np.transpose(data1)),labels)\n",
    "\n",
    "    def Poly_MSE_Return(self, x, degree):\n",
    "        x = self.Poly_Kernelise(x, degree)\n",
    "        return round(np.matmul(np.transpose(self.Poly_MSE_w), x))\n",
    "\n",
    "\n",
    "    def Poly_MSE_L2_Train(self, data, labels, degree, penalty):\n",
    "        for i in range(len(data)):\n",
    "            data[i] = self.PolyKernelise(data[i], degree)\n",
    "        identity = np.identity(len(data[0]))\n",
    "        self.Poly_MSE_reg_w = np.matmul(np.inv(np.matmul(np.transpose(data),data)+penalty*identity),np.matmul(np.transpose(data),labels))\n",
    "\n",
    "    def Poly_MSE_L2_Return(self, x, degree):\n",
    "        x = self.Poly_Kernelise(x, degree)\n",
    "        return round(np.matmul(np.transpose(self.Poly_MSE_reg_w), x))\n",
    "\n",
    "    def Gradient(self, x, function):\n",
    "        x = np.array(x)\n",
    "        nonzero_x = []\n",
    "        for ii in x:\n",
    "            if ii:\n",
    "                nonzero_x.append(ii)\n",
    "        nonzero_x = np.array(nonzero_x)\n",
    "        if not len(nonzero_x):\n",
    "            LC = 0.001\n",
    "        else:\n",
    "            LC = min(np.absolute(nonzero_x))/100\n",
    "        grad = np.zeros(len(x))\n",
    "        fx = function(x)\n",
    "        for i in range(len(x)):\n",
    "            y = x\n",
    "            y[i] += LC\n",
    "            grad[i] = (function(y)-fx)/LC\n",
    "        return grad\n",
    "\n",
    "    def Batchify(self, data, labels, batchsize):\n",
    "        z = np.ones(len(labels), dtype=np.int)\n",
    "        for i in range(len(z)):\n",
    "            z[i] = i\n",
    "        data1 = []\n",
    "        labels1 = []\n",
    "        z = np.random.choice(z, int(batchsize))\n",
    "        for ii in z:\n",
    "            data1.append(data[ii])\n",
    "            labels1.append(labels[ii])\n",
    "        return data1, labels1\n",
    "\n",
    "    def Logistic_Train(self, data, labels, rate, iterations, penaltyL1=0, penaltyL2=0):\n",
    "        def Gradient(w):\n",
    "            data1, labels1 = self.Batchify(data, labels, 100)\n",
    "            exps = np.zeros(len(data1))\n",
    "            for i in range(len(data1)):\n",
    "                exps[i] = np.exp(np.dot(w,data1[i]))\n",
    "\n",
    "            coeffs = 2*(labels1-1/exps)*(1/exps)\n",
    "            grad = np.transpose(np.matmul(coeffs,data1)) +penaltyL1*np.sign(w) + penaltyL2*w\n",
    "            gradmax = max(np.absolute(grad))\n",
    "            if gradmax:\n",
    "                return grad/gradmax\n",
    "            else:\n",
    "                return grad\n",
    "\n",
    "        if not self.Logistic_trained:\n",
    "            print(data.shape)\n",
    "            self.Logistic_w = np.ones(len(data[0]))/(len(data[0])**7)\n",
    "            self.Logistic_trained = True\n",
    "        for i in range(iterations):\n",
    "            self.Logistic_w += -rate*Gradient(self.Logistic_w)\n",
    "        return self.Logistic_w\n",
    "    def Logistic_Return(self, x):\n",
    "        return np.matmul(np.transpose(self.Logistic_w), x)\n",
    "\n",
    "    def MSE_reg_Train(self, data, labels, rate, iterations, penaltyL1, penaltyL2):\n",
    "        def Gradient(w):\n",
    "            data1, labels1 = self.Batchify(data, labels, 100)\n",
    "            coeffs = np.zeros(len(data1))\n",
    "            for i in range(len(data1)):\n",
    "                coeffs[i] = 2*(labels1[i] - np.dot(w,data1[i]))\n",
    "            grad = np.transpose(np.matmul(coeffs,data1)) + penaltyL1*np.sign(w) + penaltyL2*w\n",
    "            gradmax = max(np.absolute(grad))\n",
    "            if gradmax:\n",
    "                return grad/gradmax\n",
    "            else:\n",
    "                return grad\n",
    "\n",
    "        if not self.MSE_reg_trained:\n",
    "            self.MSE_L1_w = np.ones(len(data[0]))/(len(data[0])**7)\n",
    "            self.MSE_reg_trained = True\n",
    "        for i in range(iterations):\n",
    "            self.MSE_L1_w += -rate*Gradient(self.MSE_L1_w)\n",
    "\n",
    "    def MSE_reg_Return(self, x):\n",
    "        return round(np.matmul(np.transpose(self.MSE_L1_w), x))\n",
    "\n",
    "    def FLDM_Train(self, data, labels):\n",
    "        data_0 = []\n",
    "        data_1 = []\n",
    "        for i in range(len(labels)):\n",
    "            if labels[i]:\n",
    "                data_1.append(data[i])\n",
    "            else:\n",
    "                data_0.append(data[i])\n",
    "        data_0 = np.array(data_0)\n",
    "        data_1 = np.array(data_1)\n",
    "        mu_0 = sum(data_0)/len(data_0)\n",
    "        mu_1 = sum(data_1)/len(data_1)\n",
    "\n",
    "        S_w = np.zeros([len(data[0]),len(data[0])])\n",
    "        #for i in data_0:\n",
    "        #    S_w += np.outer(i-mu_0, i-mu_0)\n",
    "        #for i in data_1:\n",
    "        #    S_w += np.outer(i-mu_1, i-mu_1)\n",
    "        S_w = np.cov(data_0.T) + np.cov(data_1.T)\n",
    "\n",
    "        success = False\n",
    "        lamb = 0.01\n",
    "        while not success:\n",
    "            try:\n",
    "                self.FLDM_w = np.linalg.inv(S_w+lamb*np.identity(np.size(S_w))).dot(mu_0 - mu_1)\n",
    "                success = True\n",
    "            except:\n",
    "                lamb = lamb*2\n",
    "                print('Trying lambda: ',lamb)\n",
    "\n",
    "    def FLDM_Return(self, x):\n",
    "        if (np.matmul(np.transpose(self.FLDM_w), x)) > 0:\n",
    "            return 1\n",
    "        else:\n",
    "            return 0\n",
    "\n"
   ],
   "metadata": {
    "collapsed": false,
    "pycharm": {
     "name": "#%%\n"
    }
   }
  },
  {
   "cell_type": "code",
   "execution_count": 49,
   "outputs": [
    {
     "name": "stdout",
     "output_type": "stream",
     "text": [
      "28127568\n"
     ]
    }
   ],
   "source": [
    "path=\"bloodmnist.npz\"\n",
    "train_images, val_images, test_images, train_labels, val_labels, test_labels = load_input(path)\n",
    "print(train_images.size)\n",
    "best_methods_AUC=dict()\n",
    "best_methods_ACC=dict()"
   ],
   "metadata": {
    "collapsed": false,
    "pycharm": {
     "name": "#%%\n"
    }
   }
  },
  {
   "cell_type": "markdown",
   "source": [
    "<h2> KNN Classifier </h2>"
   ],
   "metadata": {
    "collapsed": false,
    "pycharm": {
     "name": "#%% md\n"
    }
   }
  },
  {
   "cell_type": "code",
   "execution_count": 36,
   "outputs": [],
   "source": [
    "def knn_naive(X_train, Y_train, X_test, *, k=5, metric=2):\n",
    "    # First we difeine a small function to return the k smallet elements of an array\n",
    "    def k_smallest(arr, k):\n",
    "        x = []\n",
    "        min = np.inf\n",
    "        pos_min = -1\n",
    "        for i in range(k):\n",
    "            for i in range(len(arr)):\n",
    "                if arr[i] < min and i not in x:\n",
    "                    min = arr[i]\n",
    "                    pos_min = i\n",
    "            if pos_min != -1:\n",
    "                x.append(pos_min)\n",
    "                min = np.inf\n",
    "                pos_min = -1\n",
    "        return x\n",
    "\n",
    "    Y_test_predicted = np.zeros((X_test.shape[0], 1))\n",
    "    if k == 0:\n",
    "        return Y_test_predicted\n",
    "    for i in range(X_test.shape[0]):\n",
    "        distances = np.linalg.norm(np.abs(X_train - X_test[i, :]), ord=metric, axis=1)\n",
    "\n",
    "        nearest = k_smallest(distances, k)\n",
    "        topk_y = [i[0] for i in Y_train[nearest[:k]]]\n",
    "        Y_test_predicted[i] = [np.argmax(np.bincount(topk_y))]\n",
    "\n",
    "    return Y_test_predicted"
   ],
   "metadata": {
    "collapsed": false,
    "pycharm": {
     "name": "#%%\n"
    }
   }
  },
  {
   "cell_type": "code",
   "execution_count": null,
   "outputs": [
    {
     "name": "stdout",
     "output_type": "stream",
     "text": [
      "1 0 0.7199649225372698\n",
      "5 0 0.7731657410114001\n"
     ]
    },
    {
     "ename": "IndexError",
     "evalue": "index 9 is out of bounds for axis 1 with size 6",
     "output_type": "error",
     "traceback": [
      "\u001B[1;31m---------------------------------------------------------------------------\u001B[0m",
      "\u001B[1;31mIndexError\u001B[0m                                Traceback (most recent call last)",
      "\u001B[1;32m~\\AppData\\Local\\Temp/ipykernel_22136/230223215.py\u001B[0m in \u001B[0;36m<module>\u001B[1;34m\u001B[0m\n\u001B[0;32m     11\u001B[0m         \u001B[0mtest_pred\u001B[0m \u001B[1;33m=\u001B[0m \u001B[0mknn_naive\u001B[0m\u001B[1;33m(\u001B[0m\u001B[0mtrain_images\u001B[0m\u001B[1;33m,\u001B[0m \u001B[0mtrain_labels\u001B[0m\u001B[1;33m,\u001B[0m \u001B[0mtest_images\u001B[0m\u001B[1;33m,\u001B[0m \u001B[0mk\u001B[0m\u001B[1;33m=\u001B[0m\u001B[0mk\u001B[0m\u001B[1;33m,\u001B[0m \u001B[0mmetric\u001B[0m\u001B[1;33m=\u001B[0m\u001B[0mmetric\u001B[0m\u001B[1;33m)\u001B[0m\u001B[1;33m\u001B[0m\u001B[1;33m\u001B[0m\u001B[0m\n\u001B[0;32m     12\u001B[0m \u001B[1;33m\u001B[0m\u001B[0m\n\u001B[1;32m---> 13\u001B[1;33m         \u001B[0mx_graph\u001B[0m\u001B[1;33m[\u001B[0m\u001B[0mj\u001B[0m\u001B[1;33m-\u001B[0m\u001B[1;36m1\u001B[0m\u001B[1;33m,\u001B[0m\u001B[0mk\u001B[0m\u001B[1;33m]\u001B[0m \u001B[1;33m=\u001B[0m \u001B[0mk\u001B[0m\u001B[1;33m\u001B[0m\u001B[1;33m\u001B[0m\u001B[0m\n\u001B[0m\u001B[0;32m     14\u001B[0m         \u001B[0mF1scores\u001B[0m\u001B[1;33m[\u001B[0m\u001B[0mj\u001B[0m\u001B[1;33m-\u001B[0m\u001B[1;36m1\u001B[0m\u001B[1;33m,\u001B[0m\u001B[0mk\u001B[0m\u001B[1;33m]\u001B[0m \u001B[1;33m=\u001B[0m\u001B[0mmetrics\u001B[0m\u001B[1;33m.\u001B[0m\u001B[0mf1_score\u001B[0m\u001B[1;33m(\u001B[0m\u001B[0mtest_labels\u001B[0m\u001B[1;33m,\u001B[0m\u001B[0mtest_pred\u001B[0m\u001B[1;33m,\u001B[0m\u001B[0maverage\u001B[0m\u001B[1;33m=\u001B[0m\u001B[1;34m'weighted'\u001B[0m\u001B[1;33m)\u001B[0m\u001B[1;33m\u001B[0m\u001B[1;33m\u001B[0m\u001B[0m\n\u001B[0;32m     15\u001B[0m         \u001B[0mACCscores\u001B[0m\u001B[1;33m[\u001B[0m\u001B[0mj\u001B[0m\u001B[1;33m-\u001B[0m\u001B[1;36m1\u001B[0m\u001B[1;33m,\u001B[0m\u001B[0mk\u001B[0m\u001B[1;33m]\u001B[0m \u001B[1;33m=\u001B[0m\u001B[0mmetrics\u001B[0m\u001B[1;33m.\u001B[0m\u001B[0maccuracy_score\u001B[0m\u001B[1;33m(\u001B[0m\u001B[0mtest_labels\u001B[0m\u001B[1;33m,\u001B[0m\u001B[0mtest_pred\u001B[0m\u001B[1;33m)\u001B[0m\u001B[1;33m\u001B[0m\u001B[1;33m\u001B[0m\u001B[0m\n",
      "\u001B[1;31mIndexError\u001B[0m: index 9 is out of bounds for axis 1 with size 6"
     ]
    }
   ],
   "source": [
    "k_max=25\n",
    "no_of_tests=2\n",
    "x_graph = np.zeros((no_of_tests,k_max//4))\n",
    "\n",
    "ACCscores = np.zeros(x_graph.shape)\n",
    "F1scores = np.zeros(x_graph.shape)\n",
    "\n",
    "for j in range(2,no_of_tests+1):\n",
    "    metric=j\n",
    "    for k in range(1,k_max,4):\n",
    "        test_pred = knn_naive(train_images, train_labels, test_images, k=k, metric=metric)\n",
    "        x_graph[j-1,k/4] = k\n",
    "        F1scores[j-1,k/4] =metrics.f1_score(test_labels,test_pred,average='weighted')\n",
    "        ACCscores[j-1,k/4] =metrics.accuracy_score(test_labels,test_pred)\n",
    "        print(k, j-1,metrics.accuracy_score(test_labels,test_pred))\n",
    "        #AUCscores[j,k] =metrics.roc_auc_score(test_labels,test_pred,multi_class='ovr')\n"
   ],
   "metadata": {
    "collapsed": false,
    "pycharm": {
     "name": "#%%\n"
    }
   }
  },
  {
   "cell_type": "code",
   "execution_count": 27,
   "outputs": [
    {
     "name": "stdout",
     "output_type": "stream",
     "text": [
      "[[0.         0.         0.         0.         0.         0.\n",
      "  0.         0.         0.         0.         0.         0.\n",
      "  0.         0.         0.         0.         0.         0.\n",
      "  0.         0.         0.         0.         0.         0.\n",
      "  0.        ]\n",
      " [0.         0.71996492 0.         0.         0.         0.77316574\n",
      "  0.         0.         0.         0.78836597 0.         0.\n",
      "  0.         0.79275066 0.         0.         0.         0.79596609\n",
      "  0.         0.         0.         0.80005846 0.         0.\n",
      "  0.        ]]\n"
     ]
    },
    {
     "data": {
      "text/plain": "<Figure size 600x400 with 1 Axes>",
      "image/png": "[encoded data removed]"
     },
     "metadata": {
      "needs_background": "light"
     },
     "output_type": "display_data"
    }
   ],
   "source": [
    "mpl.rcParams['figure.dpi'] = 100\n",
    "for j in range(0,no_of_tests+1):\n",
    "    metric=j\n",
    "    plt.subplot(2,1,j+1)\n",
    "    plotter(x_graph[j],ACCscores[j],F1scores[j],str(metric)+\" norm\",\"K value\",first=(j==0))\n",
    "    plt.xticks(np.linspace(0, k_max, 5))\n",
    "\n",
    "plt.suptitle(\"KNN for binary classification with different metrics\")\n",
    "plt.tight_layout()\n",
    "\n",
    "#plt.figlegend(['AUC', 'ACC', 'F1'])\n",
    "\n",
    "plt.show()"
   ],
   "metadata": {
    "collapsed": false,
    "pycharm": {
     "name": "#%%\n"
    }
   }
  },
  {
   "cell_type": "code",
   "execution_count": 28,
   "outputs": [
    {
     "name": "stdout",
     "output_type": "stream",
     "text": [
      "best metrics according to ACC\n",
      "\t3 best metric is  inf (k= 13 )with a score of  0.7927506577024261\n",
      "\t2 best metric is  inf (k= 17 )with a score of  0.7959660917860275\n",
      "\t1 best metric is  inf (k= 21 )with a score of  0.8000584624378837\n"
     ]
    }
   ],
   "source": [
    "print(\"best metrics according to ACC\")\n",
    "count=0\n",
    "for i in np.argsort(ACCscores,axis=None,)[-3:]:\n",
    "    best_metric,best_k =int( i//k_max), int(i%k_max    )\n",
    "    best_score = ACCscores[int(best_metric)][int(best_k)]\n",
    "    if best_metric==0:\n",
    "        best_metric =-math.inf\n",
    "    elif best_metric==no_of_tests-1:\n",
    "        best_metric = math.inf\n",
    "    print('\\t'+str(3-count)+\" best metric is \", best_metric,\"(k=\",best_k,\")with a score of \",best_score)\n",
    "    if 3-count==1:\n",
    "        best_methods_AUC[\"KNN\" + \"(metric=\" + str(best_metric) + \", k=\" + str(best_k)]=best_score\n",
    "    count+=1\n",
    "%reset_selective -f AUCscores ACCscores F1scores x_graph k_max no_of_tests metric j k test_pred best_metric best_k best_score"
   ],
   "metadata": {
    "collapsed": false,
    "pycharm": {
     "name": "#%%\n"
    }
   }
  },
  {
   "cell_type": "markdown",
   "source": [
    "<h2>Linear Regression </h2>\n"
   ],
   "metadata": {
    "collapsed": false,
    "pycharm": {
     "name": "#%% md\n"
    }
   }
  },
  {
   "cell_type": "code",
   "execution_count": null,
   "outputs": [],
   "source": [
    "train_labels1 = one_hot_encoding(train_labels)\n",
    "test_labels1 = one_hot_encoding(test_labels)\n",
    "\n",
    "k_max=20\n",
    "\n",
    "x_graph = np.zeros(k_max)\n",
    "AUCscores = np.zeros(x_graph.shape)\n",
    "ACCscores = np.zeros(x_graph.shape)\n",
    "F1scores = np.zeros(x_graph.shape)\n",
    "\n",
    "for k in range(0, k_max):\n",
    "\n",
    "    y_predonehot = regression_classifier(train_images, train_labels1, test_images, lambda_hyper=100*math.exp(-k))\n",
    "    test_pred = np.argmax(y_predonehot, axis=1)\n",
    "    x_graph[k] = k\n",
    "    F1scores[k] =metrics.f1_score(test_labels,test_pred,average='weighted')\n",
    "    ACCscores[k] =metrics.accuracy_score(test_labels,test_pred)\n",
    "    print(k,metrics.accuracy_score(test_labels,test_pred))\n",
    "    #AUCscores[j,k] =metrics.roc_auc_score(test_labels,test_pred,multi_class='ovr')"
   ],
   "metadata": {
    "collapsed": false,
    "pycharm": {
     "name": "#%%\n"
    }
   }
  },
  {
   "cell_type": "code",
   "execution_count": 15,
   "outputs": [
    {
     "name": "stdout",
     "output_type": "stream",
     "text": [
      "best metrics according to AUC\n"
     ]
    },
    {
     "ename": "TypeError",
     "evalue": "type numpy.ndarray doesn't define __round__ method",
     "output_type": "error",
     "traceback": [
      "\u001B[1;31m---------------------------------------------------------------------------\u001B[0m",
      "\u001B[1;31mTypeError\u001B[0m                                 Traceback (most recent call last)",
      "\u001B[1;32m~\\AppData\\Local\\Temp/ipykernel_22136/217908148.py\u001B[0m in \u001B[0;36m<module>\u001B[1;34m\u001B[0m\n\u001B[0;32m      7\u001B[0m     \u001B[0mbest_score\u001B[0m \u001B[1;33m=\u001B[0m \u001B[0mAUCscores\u001B[0m\u001B[1;33m[\u001B[0m\u001B[0mi\u001B[0m\u001B[1;33m]\u001B[0m\u001B[1;33m\u001B[0m\u001B[1;33m\u001B[0m\u001B[0m\n\u001B[0;32m      8\u001B[0m \u001B[1;33m\u001B[0m\u001B[0m\n\u001B[1;32m----> 9\u001B[1;33m     \u001B[0mprint\u001B[0m\u001B[1;33m(\u001B[0m\u001B[1;34m'\\t'\u001B[0m \u001B[1;33m+\u001B[0m \u001B[0mstr\u001B[0m\u001B[1;33m(\u001B[0m\u001B[1;36m3\u001B[0m \u001B[1;33m-\u001B[0m \u001B[0mcount\u001B[0m\u001B[1;33m)\u001B[0m \u001B[1;33m+\u001B[0m \u001B[1;34m\" best regulariser is  \"\u001B[0m\u001B[1;33m,\u001B[0m \u001B[0mround\u001B[0m\u001B[1;33m(\u001B[0m\u001B[0mx_graph\u001B[0m\u001B[1;33m[\u001B[0m\u001B[0mi\u001B[0m\u001B[1;33m]\u001B[0m\u001B[1;33m,\u001B[0m \u001B[1;36m3\u001B[0m\u001B[1;33m)\u001B[0m\u001B[1;33m,\u001B[0m \u001B[1;34m\"With score\"\u001B[0m\u001B[1;33m,\u001B[0m \u001B[0mround\u001B[0m\u001B[1;33m(\u001B[0m\u001B[0mbest_score\u001B[0m\u001B[1;33m,\u001B[0m \u001B[1;36m3\u001B[0m\u001B[1;33m)\u001B[0m\u001B[1;33m)\u001B[0m\u001B[1;33m\u001B[0m\u001B[1;33m\u001B[0m\u001B[0m\n\u001B[0m\u001B[0;32m     10\u001B[0m     \u001B[1;32mif\u001B[0m \u001B[1;36m3\u001B[0m \u001B[1;33m-\u001B[0m \u001B[0mcount\u001B[0m \u001B[1;33m==\u001B[0m \u001B[1;36m1\u001B[0m\u001B[1;33m:\u001B[0m\u001B[1;33m\u001B[0m\u001B[1;33m\u001B[0m\u001B[0m\n\u001B[0;32m     11\u001B[0m         \u001B[0mbest_methods_AUC\u001B[0m\u001B[1;33m[\u001B[0m\u001B[1;34m\"Least squares with regulariser \"\u001B[0m\u001B[1;33m,\u001B[0m \u001B[0mx_graph\u001B[0m\u001B[1;33m[\u001B[0m\u001B[0mi\u001B[0m\u001B[1;33m]\u001B[0m\u001B[1;33m]\u001B[0m \u001B[1;33m=\u001B[0m \u001B[0mbest_score\u001B[0m\u001B[1;33m\u001B[0m\u001B[1;33m\u001B[0m\u001B[0m\n",
      "\u001B[1;31mTypeError\u001B[0m: type numpy.ndarray doesn't define __round__ method"
     ]
    },
    {
     "data": {
      "text/plain": "<Figure size 432x288 with 1 Axes>",
      "image/png": "[encoded data removed]"
     },
     "metadata": {
      "needs_background": "light"
     },
     "output_type": "display_data"
    }
   ],
   "source": [
    "plotter(x_graph, ACCscores, F1scores, \"Linear CLassifier with L2 regulariser\", \"Regulariser ( $\\lambda $) \")\n",
    "plt.legend([ 'ACC', 'F1']);\n",
    "count = 0\n",
    "print(\"best metrics according to AUC\")\n",
    "for i in np.argsort(AUCscores, axis=None, )[-3:]:\n",
    "\n",
    "    best_score = AUCscores[i]\n",
    "\n",
    "    print('\\t' + str(3 - count) + \" best regulariser is  \", round(x_graph[i], 3), \"With score\", round(best_score, 3))\n",
    "    if 3 - count == 1:\n",
    "        best_methods_AUC[\"Least squares with regulariser \", x_graph[i]] = best_score\n",
    "    count += 1\n",
    "print(\"best metrics according to ACC\")\n",
    "count = 0\n",
    "\n",
    "for i in np.argsort(ACCscores, axis=None, )[-3:]:\n",
    "\n",
    "    best_score = ACCscores[i]\n",
    "\n",
    "    print('\\t' + str(3 - count) + \" best regulariser is  \", round(x_graph[i], 3), \"With score\", round(best_score, 3))\n",
    "    if 3 - count == 1:\n",
    "        best_methods_ACC[\"Least squares with regulariser \", x_graph[i]] = best_score\n",
    "    count += 1\n",
    "\n",
    "% reset_selective -f AUCscores ACCscores F1scores x_graph k_max test_pred  best_s<h2>core"
   ],
   "metadata": {
    "collapsed": false,
    "pycharm": {
     "name": "#%%\n"
    }
   }
  },
  {
   "cell_type": "markdown",
   "source": [
    "<h2>Logistic Regression</h2>\n"
   ],
   "metadata": {
    "collapsed": false,
    "pycharm": {
     "name": "#%% md\n"
    }
   }
  },
  {
   "cell_type": "code",
   "execution_count": 134,
   "outputs": [
    {
     "name": "stdout",
     "output_type": "stream",
     "text": [
      "(11959, 2353)\n"
     ]
    },
    {
     "name": "stderr",
     "output_type": "stream",
     "text": [
      "C:\\Users\\Sudhanshu\\AppData\\Local\\Temp/ipykernel_22136/3266747371.py:67: DeprecationWarning: `np.int` is a deprecated alias for the builtin `int`. To silence this warning, use `int` by itself. Doing this will not modify any behavior and is safe. When replacing `np.int`, you may wish to use e.g. `np.int64` or `np.int32` to specify the precision. If you wish to review your current use, check the release note link for additional information.\n",
      "Deprecated in NumPy 1.20; for more details and guidance: https://numpy.org/devdocs/release/1.20.0-notes.html#deprecations\n",
      "  z = np.ones(len(labels), dtype=np.int)\n"
     ]
    },
    {
     "name": "stdout",
     "output_type": "stream",
     "text": [
      "(11959, 2353)\n",
      "(11959, 2353)\n",
      "(11959, 2353)\n",
      "(11959, 2353)\n",
      "(11959, 2353)\n",
      "(11959, 2353)\n",
      "(11959, 2353)\n",
      "(11959, 2353)\n"
     ]
    },
    {
     "name": "stderr",
     "output_type": "stream",
     "text": [
      "C:\\Users\\Sudhanshu\\AppData\\Local\\Temp/ipykernel_22136/3266747371.py:67: DeprecationWarning: `np.int` is a deprecated alias for the builtin `int`. To silence this warning, use `int` by itself. Doing this will not modify any behavior and is safe. When replacing `np.int`, you may wish to use e.g. `np.int64` or `np.int32` to specify the precision. If you wish to review your current use, check the release note link for additional information.\n",
      "Deprecated in NumPy 1.20; for more details and guidance: https://numpy.org/devdocs/release/1.20.0-notes.html#deprecations\n",
      "  z = np.ones(len(labels), dtype=np.int)\n"
     ]
    },
    {
     "name": "stdout",
     "output_type": "stream",
     "text": [
      "(11959, 2353)\n",
      "(11959, 2353)\n",
      "(11959, 2353)\n",
      "(11959, 2353)\n",
      "(11959, 2353)\n",
      "(11959, 2353)\n",
      "(11959, 2353)\n",
      "(11959, 2353)\n"
     ]
    },
    {
     "name": "stderr",
     "output_type": "stream",
     "text": [
      "C:\\Users\\Sudhanshu\\AppData\\Local\\Temp/ipykernel_22136/3266747371.py:67: DeprecationWarning: `np.int` is a deprecated alias for the builtin `int`. To silence this warning, use `int` by itself. Doing this will not modify any behavior and is safe. When replacing `np.int`, you may wish to use e.g. `np.int64` or `np.int32` to specify the precision. If you wish to review your current use, check the release note link for additional information.\n",
      "Deprecated in NumPy 1.20; for more details and guidance: https://numpy.org/devdocs/release/1.20.0-notes.html#deprecations\n",
      "  z = np.ones(len(labels), dtype=np.int)\n"
     ]
    },
    {
     "name": "stdout",
     "output_type": "stream",
     "text": [
      "(11959, 2353)\n",
      "(11959, 2353)\n",
      "(11959, 2353)\n",
      "(11959, 2353)\n",
      "(11959, 2353)\n",
      "(11959, 2353)\n",
      "(11959, 2353)\n",
      "(11959, 2353)\n"
     ]
    },
    {
     "name": "stderr",
     "output_type": "stream",
     "text": [
      "C:\\Users\\Sudhanshu\\AppData\\Local\\Temp/ipykernel_22136/3266747371.py:67: DeprecationWarning: `np.int` is a deprecated alias for the builtin `int`. To silence this warning, use `int` by itself. Doing this will not modify any behavior and is safe. When replacing `np.int`, you may wish to use e.g. `np.int64` or `np.int32` to specify the precision. If you wish to review your current use, check the release note link for additional information.\n",
      "Deprecated in NumPy 1.20; for more details and guidance: https://numpy.org/devdocs/release/1.20.0-notes.html#deprecations\n",
      "  z = np.ones(len(labels), dtype=np.int)\n"
     ]
    },
    {
     "name": "stdout",
     "output_type": "stream",
     "text": [
      "(11959, 2353)\n",
      "(11959, 2353)\n",
      "(11959, 2353)\n",
      "(11959, 2353)\n",
      "(11959, 2353)\n",
      "(11959, 2353)\n",
      "(11959, 2353)\n",
      "(11959, 2353)\n"
     ]
    },
    {
     "name": "stderr",
     "output_type": "stream",
     "text": [
      "C:\\Users\\Sudhanshu\\AppData\\Local\\Temp/ipykernel_22136/3266747371.py:67: DeprecationWarning: `np.int` is a deprecated alias for the builtin `int`. To silence this warning, use `int` by itself. Doing this will not modify any behavior and is safe. When replacing `np.int`, you may wish to use e.g. `np.int64` or `np.int32` to specify the precision. If you wish to review your current use, check the release note link for additional information.\n",
      "Deprecated in NumPy 1.20; for more details and guidance: https://numpy.org/devdocs/release/1.20.0-notes.html#deprecations\n",
      "  z = np.ones(len(labels), dtype=np.int)\n"
     ]
    },
    {
     "name": "stdout",
     "output_type": "stream",
     "text": [
      "(11959, 2353)\n",
      "(11959, 2353)\n",
      "(11959, 2353)\n",
      "(11959, 2353)\n",
      "(11959, 2353)\n",
      "(11959, 2353)\n",
      "(11959, 2353)\n"
     ]
    }
   ],
   "source": [
    "train_labels1 = one_hot_encoding(train_labels)\n",
    "test_labels1 = one_hot_encoding(test_labels)\n",
    "pred_labels = np.zeros(test_labels1.shape)\n",
    "T=Trainer()\n",
    "\n",
    "def concat_one(images):\n",
    "    ones = np.ones((np.shape(images)[0],1))\n",
    "    images = np.append(images, ones, axis=1)\n",
    "    return images\n",
    "tr_data=concat_one(train_images)\n",
    "te_data=concat_one(test_images)\n",
    "T.Logistic_trained = False\n",
    "\n",
    "reg=[0.01,0.02,0.1,1,10]\n",
    "acc=[]\n",
    "f1=[]\n",
    "for regs in reg:\n",
    "    for j in range(8):\n",
    "        T.Logistic_trained = False\n",
    "        tr=train_labels1[:,j]\n",
    "        w=T.Logistic_Train(tr_data, tr, 0.1, 100, 0, regs)\n",
    "        pred_labels[:,j]=np.dot(w.T,te_data.T).T\n",
    "    test_pred = np.argmax(pred_labels, axis=1)\n",
    "    acc.append(metrics.accuracy_score(test_labels,test_pred))\n",
    "    f1.append(metrics.f1_score(test_labels,test_pred,average='macro'))"
   ],
   "metadata": {
    "collapsed": false,
    "pycharm": {
     "name": "#%%\n"
    }
   }
  },
  {
   "cell_type": "code",
   "execution_count": 114,
   "outputs": [
    {
     "name": "stdout",
     "output_type": "stream",
     "text": [
      "[0.9101143  0.7924264  0.74508697 ... 0.8974979  0.77102864 0.73273385]\n"
     ]
    },
    {
     "name": "stderr",
     "output_type": "stream",
     "text": [
      "C:\\ProgramData\\Anaconda3\\envs\\MLcoding\\lib\\site-packages\\scipy\\stats\\_multivariate.py:744: RuntimeWarning: overflow encountered in exp\n",
      "  return np.exp(self.logpdf(x))\n"
     ]
    },
    {
     "name": "stdout",
     "output_type": "stream",
     "text": [
      "[0.90435636 0.7779227  0.73118925 ... 0.88755375 0.7649818  0.71925074]\n",
      "[0.92370534 0.8121557  0.72989815 ... 0.9202898  0.79868555 0.7454576 ]\n",
      "[0.890437   0.7698685  0.74200517 ... 0.88245326 0.7591916  0.72341394]\n",
      "[0.91083115 0.7951384  0.6992303  ... 0.89894193 0.7733555  0.72939664]\n",
      "[0.8847791  0.7555218  0.7319615  ... 0.87956977 0.7548072  0.71381474]\n",
      "[0.892615   0.7706747  0.71393496 ... 0.88370085 0.75609046 0.7175921 ]\n",
      "[0.92084205 0.8039089  0.7325504  ... 0.9198793  0.79807496 0.73703474]\n"
     ]
    }
   ],
   "source": [
    "train_labels1 = one_hot_encoding(train_labels)\n",
    "test_labels1 = one_hot_encoding(test_labels)\n",
    "pred_labels = np.zeros(test_labels1.shape)\n",
    "# we try alloting a guassian to each label\n",
    "guassians=[]\n",
    "# we spilt the training data into 8 classes, each set having one label\n",
    "\n",
    "for i in range(0,8):\n",
    "    #first we find all points for which the label is i\n",
    "    points=np.squeeze(train_images[(np.argwhere((train_labels.flatten())==i))])\n",
    "    guassians.append([np.mean(points,axis=0),np.cov(points,rowvar=False)])\n",
    "    pred_labels[:,i]=multivariate_normal(guassians[i][0],guassians[i][1],allow_singular=True).pdf(test_images)\n"
   ],
   "metadata": {
    "collapsed": false,
    "pycharm": {
     "name": "#%%\n"
    }
   }
  },
  {
   "cell_type": "code",
   "execution_count": 125,
   "outputs": [
    {
     "name": "stdout",
     "output_type": "stream",
     "text": [
      "0.18357205495469162\n",
      "0.1415789322678105\n"
     ]
    },
    {
     "ename": "AxisError",
     "evalue": "axis 1 is out of bounds for array of dimension 1",
     "output_type": "error",
     "traceback": [
      "\u001B[1;31m---------------------------------------------------------------------------\u001B[0m",
      "\u001B[1;31mAxisError\u001B[0m                                 Traceback (most recent call last)",
      "\u001B[1;32m~\\AppData\\Local\\Temp/ipykernel_22136/3603024290.py\u001B[0m in \u001B[0;36m<module>\u001B[1;34m\u001B[0m\n\u001B[0;32m      2\u001B[0m \u001B[0mprint\u001B[0m\u001B[1;33m(\u001B[0m\u001B[0mmetrics\u001B[0m\u001B[1;33m.\u001B[0m\u001B[0maccuracy_score\u001B[0m\u001B[1;33m(\u001B[0m\u001B[0mtest_labels\u001B[0m\u001B[1;33m,\u001B[0m\u001B[0mtest_pred\u001B[0m\u001B[1;33m.\u001B[0m\u001B[0mT\u001B[0m\u001B[1;33m)\u001B[0m\u001B[1;33m)\u001B[0m\u001B[1;33m\u001B[0m\u001B[1;33m\u001B[0m\u001B[0m\n\u001B[0;32m      3\u001B[0m \u001B[0mprint\u001B[0m\u001B[1;33m(\u001B[0m\u001B[0mmetrics\u001B[0m\u001B[1;33m.\u001B[0m\u001B[0mf1_score\u001B[0m\u001B[1;33m(\u001B[0m\u001B[0mtest_labels\u001B[0m\u001B[1;33m,\u001B[0m\u001B[0mtest_pred\u001B[0m\u001B[1;33m.\u001B[0m\u001B[0mT\u001B[0m\u001B[1;33m,\u001B[0m\u001B[0maverage\u001B[0m\u001B[1;33m=\u001B[0m\u001B[1;34m'macro'\u001B[0m\u001B[1;33m)\u001B[0m\u001B[1;33m)\u001B[0m\u001B[1;33m\u001B[0m\u001B[1;33m\u001B[0m\u001B[0m\n\u001B[1;32m----> 4\u001B[1;33m \u001B[0mprint\u001B[0m\u001B[1;33m(\u001B[0m\u001B[0mmetrics\u001B[0m\u001B[1;33m.\u001B[0m\u001B[0mroc_auc_score\u001B[0m\u001B[1;33m(\u001B[0m\u001B[0mtest_labels\u001B[0m\u001B[1;33m,\u001B[0m\u001B[0mtest_pred\u001B[0m\u001B[1;33m.\u001B[0m\u001B[0mT\u001B[0m\u001B[1;33m,\u001B[0m\u001B[0mmulti_class\u001B[0m\u001B[1;33m=\u001B[0m\u001B[1;34m'ovo'\u001B[0m\u001B[1;33m)\u001B[0m\u001B[1;33m)\u001B[0m\u001B[1;33m\u001B[0m\u001B[1;33m\u001B[0m\u001B[0m\n\u001B[0m",
      "\u001B[1;32mC:\\ProgramData\\Anaconda3\\envs\\MLcoding\\lib\\site-packages\\sklearn\\metrics\\_ranking.py\u001B[0m in \u001B[0;36mroc_auc_score\u001B[1;34m(y_true, y_score, average, sample_weight, max_fpr, multi_class, labels)\u001B[0m\n\u001B[0;32m    559\u001B[0m         \u001B[1;32mif\u001B[0m \u001B[0mmulti_class\u001B[0m \u001B[1;33m==\u001B[0m \u001B[1;34m\"raise\"\u001B[0m\u001B[1;33m:\u001B[0m\u001B[1;33m\u001B[0m\u001B[1;33m\u001B[0m\u001B[0m\n\u001B[0;32m    560\u001B[0m             \u001B[1;32mraise\u001B[0m \u001B[0mValueError\u001B[0m\u001B[1;33m(\u001B[0m\u001B[1;34m\"multi_class must be in ('ovo', 'ovr')\"\u001B[0m\u001B[1;33m)\u001B[0m\u001B[1;33m\u001B[0m\u001B[1;33m\u001B[0m\u001B[0m\n\u001B[1;32m--> 561\u001B[1;33m         return _multiclass_roc_auc_score(\n\u001B[0m\u001B[0;32m    562\u001B[0m             \u001B[0my_true\u001B[0m\u001B[1;33m,\u001B[0m \u001B[0my_score\u001B[0m\u001B[1;33m,\u001B[0m \u001B[0mlabels\u001B[0m\u001B[1;33m,\u001B[0m \u001B[0mmulti_class\u001B[0m\u001B[1;33m,\u001B[0m \u001B[0maverage\u001B[0m\u001B[1;33m,\u001B[0m \u001B[0msample_weight\u001B[0m\u001B[1;33m\u001B[0m\u001B[1;33m\u001B[0m\u001B[0m\n\u001B[0;32m    563\u001B[0m         )\n",
      "\u001B[1;32mC:\\ProgramData\\Anaconda3\\envs\\MLcoding\\lib\\site-packages\\sklearn\\metrics\\_ranking.py\u001B[0m in \u001B[0;36m_multiclass_roc_auc_score\u001B[1;34m(y_true, y_score, labels, multi_class, average, sample_weight)\u001B[0m\n\u001B[0;32m    625\u001B[0m     \"\"\"\n\u001B[0;32m    626\u001B[0m     \u001B[1;31m# validation of the input y_score\u001B[0m\u001B[1;33m\u001B[0m\u001B[1;33m\u001B[0m\u001B[0m\n\u001B[1;32m--> 627\u001B[1;33m     \u001B[1;32mif\u001B[0m \u001B[1;32mnot\u001B[0m \u001B[0mnp\u001B[0m\u001B[1;33m.\u001B[0m\u001B[0mallclose\u001B[0m\u001B[1;33m(\u001B[0m\u001B[1;36m1\u001B[0m\u001B[1;33m,\u001B[0m \u001B[0my_score\u001B[0m\u001B[1;33m.\u001B[0m\u001B[0msum\u001B[0m\u001B[1;33m(\u001B[0m\u001B[0maxis\u001B[0m\u001B[1;33m=\u001B[0m\u001B[1;36m1\u001B[0m\u001B[1;33m)\u001B[0m\u001B[1;33m)\u001B[0m\u001B[1;33m:\u001B[0m\u001B[1;33m\u001B[0m\u001B[1;33m\u001B[0m\u001B[0m\n\u001B[0m\u001B[0;32m    628\u001B[0m         raise ValueError(\n\u001B[0;32m    629\u001B[0m             \u001B[1;34m\"Target scores need to be probabilities for multiclass \"\u001B[0m\u001B[1;33m\u001B[0m\u001B[1;33m\u001B[0m\u001B[0m\n",
      "\u001B[1;32mC:\\ProgramData\\Anaconda3\\envs\\MLcoding\\lib\\site-packages\\numpy\\core\\_methods.py\u001B[0m in \u001B[0;36m_sum\u001B[1;34m(a, axis, dtype, out, keepdims, initial, where)\u001B[0m\n\u001B[0;32m     46\u001B[0m def _sum(a, axis=None, dtype=None, out=None, keepdims=False,\n\u001B[0;32m     47\u001B[0m          initial=_NoValue, where=True):\n\u001B[1;32m---> 48\u001B[1;33m     \u001B[1;32mreturn\u001B[0m \u001B[0mumr_sum\u001B[0m\u001B[1;33m(\u001B[0m\u001B[0ma\u001B[0m\u001B[1;33m,\u001B[0m \u001B[0maxis\u001B[0m\u001B[1;33m,\u001B[0m \u001B[0mdtype\u001B[0m\u001B[1;33m,\u001B[0m \u001B[0mout\u001B[0m\u001B[1;33m,\u001B[0m \u001B[0mkeepdims\u001B[0m\u001B[1;33m,\u001B[0m \u001B[0minitial\u001B[0m\u001B[1;33m,\u001B[0m \u001B[0mwhere\u001B[0m\u001B[1;33m)\u001B[0m\u001B[1;33m\u001B[0m\u001B[1;33m\u001B[0m\u001B[0m\n\u001B[0m\u001B[0;32m     49\u001B[0m \u001B[1;33m\u001B[0m\u001B[0m\n\u001B[0;32m     50\u001B[0m def _prod(a, axis=None, dtype=None, out=None, keepdims=False,\n",
      "\u001B[1;31mAxisError\u001B[0m: axis 1 is out of bounds for array of dimension 1"
     ]
    }
   ],
   "source": [
    "test_pred = np.argmax(pred_labels, axis=1)\n",
    "print(metrics.accuracy_score(test_labels,test_pred.T))\n",
    "print(metrics.f1_score(test_labels,test_pred.T,average='macro'))\n"
   ],
   "metadata": {
    "collapsed": false,
    "pycharm": {
     "name": "#%%\n"
    }
   }
  },
  {
   "cell_type": "code",
   "execution_count": 149,
   "outputs": [
    {
     "name": "stdout",
     "output_type": "stream",
     "text": [
      "10\n",
      "1\n",
      "0\n",
      "2\n",
      "4\n",
      "6\n",
      "8\n",
      "10\n",
      "12\n",
      "14\n",
      "16\n",
      "18\n",
      "20\n",
      "22\n",
      "24\n",
      "26\n",
      "28\n",
      "30\n",
      "32\n",
      "34\n",
      "36\n",
      "38\n",
      "40\n",
      "42\n",
      "44\n",
      "46\n",
      "48\n",
      "50\n",
      "52\n",
      "54\n",
      "56\n",
      "58\n",
      "60\n",
      "62\n",
      "64\n",
      "66\n",
      "68\n",
      "70\n",
      "72\n",
      "74\n",
      "76\n",
      "78\n",
      "80\n",
      "82\n",
      "84\n",
      "86\n",
      "88\n",
      "90\n",
      "92\n",
      "94\n",
      "96\n",
      "98\n"
     ]
    }
   ],
   "source": [
    "def Parzen_Return(x, data, labels, window_size):\n",
    "    print(1)\n",
    "    Y_test_predicted= np.zeros(x.shape[0])\n",
    "    for j in range(x.shape[0]):\n",
    "        # we find the label of the point\n",
    "        if(j%2==0):\n",
    "            print(j)\n",
    "        inside_window_list = []\n",
    "        while not len(inside_window_list):\n",
    "            for i in range(len(data)):\n",
    "                if np.max(np.absolute(x-data[i])) < window_size:\n",
    "                    inside_window_list.append(i)\n",
    "            window_size *= 2\n",
    "\n",
    "        Y_test_predicted[j] = np.argmax(np.bincount(np.squeeze(labels[inside_window_list])))\n",
    "    return Y_test_predicted\n",
    "print(10)\n",
    "pred=Parzen_Return(test_images[0:100,:],train_images,train_labels,0.1)"
   ],
   "metadata": {
    "collapsed": false,
    "pycharm": {
     "name": "#%%\n"
    }
   }
  },
  {
   "cell_type": "markdown",
   "source": [],
   "metadata": {
    "collapsed": false
   }
  },
  {
   "cell_type": "code",
   "execution_count": 152,
   "outputs": [
    {
     "name": "stdout",
     "output_type": "stream",
     "text": [
      "0.17\n",
      "0.036637931034482756\n"
     ]
    }
   ],
   "source": [
    "accuracy=metrics.accuracy_score(test_labels[0: 100],pred)\n",
    "f1=metrics.f1_score(test_labels[0: 100],pred,average='macro')\n",
    "print(accuracy)\n",
    "print(f1)"
   ],
   "metadata": {
    "collapsed": false,
    "pycharm": {
     "name": "#%%\n"
    }
   }
  },
  {
   "cell_type": "code",
   "execution_count": null,
   "outputs": [],
   "source": [],
   "metadata": {
    "collapsed": false,
    "pycharm": {
     "name": "#%%\n"
    }
   }
  }
 ],
 "metadata": {
  "kernelspec": {
   "display_name": "Python 3",
   "language": "python",
   "name": "python3"
  },
  "language_info": {
   "codemirror_mode": {
    "name": "ipython",
    "version": 2
   },
   "file_extension": ".py",
   "mimetype": "text/x-python",
   "name": "python",
   "nbconvert_exporter": "python",
   "pygments_lexer": "ipython2",
   "version": "2.7.6"
  }
 },
 "nbformat": 4,
 "nbformat_minor": 0
}