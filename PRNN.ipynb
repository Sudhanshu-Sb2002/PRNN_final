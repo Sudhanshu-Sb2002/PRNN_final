{
 "cells": [
  {
   "cell_type": "markdown",
   "id": "5511cbee",
   "metadata": {},
   "source": [
    "<center><h2>Binary Classifier using mdnmist data</h2></center>"
   ]
  },
  {
   "cell_type": "markdown",
   "id": "542da3c9",
   "metadata": {},
   "source": [
    "Lets import the required data and noramalise it as required.\n",
    "    "
   ]
  },
  {
   "cell_type": "code",
   "execution_count": 8,
   "id": "6d400ae3",
   "metadata": {},
   "outputs": [],
   "source": [
    "inputpath=\"breastmnist.npz\"\n",
    "def load_input(inputpath):\n",
    "    folder = np.load(inputpath)\n",
    "    files = folder.files\n",
    "    # print(files)\n",
    "    # First we load the images and the labels\n",
    "    un_train_images = folder['train_images.npy']\n",
    "    un_val_images = folder['val_images.npy']\n",
    "    un_test_images = folder['test_images.npy']\n",
    "    train_labels = folder['train_labels.npy']\n",
    "    val_labels = folder['val_labels.npy']\n",
    "    test_labels = folder['test_labels.npy']\n",
    "    # Then we normalize the images\n",
    "    train_images = normalize_images(un_train_images)\n",
    "    val_images = normalize_images(un_val_images)\n",
    "    test_images = normalize_images(un_test_images)\n",
    "    return train_images, val_images, test_images, train_labels, val_labels, test_labels"
   ]
  },
  {
   "cell_type": "code",
   "execution_count": 11,
   "id": "963d8bac",
   "metadata": {},
   "outputs": [],
   "source": [
    "train_images, val_images, test_images, train_labels, val_labels, test_labels = load_input(\"breastmnist.npz\")"
   ]
  },
  {
   "cell_type": "markdown",
   "id": "3aedad41",
   "metadata": {},
   "source": [
    "Lets get started with and try to solve this porblem using various methods"
   ]
  },
  {
   "cell_type": "markdown",
   "id": "4a3cae0d",
   "metadata": {},
   "source": [
    "<center> <h3> K Nearest Neighbours</h3> </center>\n",
    "Lets import the locally defined functions containing "
   ]
  },
  {
   "cell_type": "code",
   "execution_count": 15,
   "id": "453d06ab",
   "metadata": {},
   "outputs": [
    {
     "data": {
      "text/plain": [
       "1"
      ]
     },
     "execution_count": 15,
     "metadata": {},
     "output_type": "execute_result"
    }
   ],
   "source": [
    "\n"
   ]
  },
  {
   "cell_type": "code",
   "execution_count": null,
   "id": "40498912",
   "metadata": {},
   "outputs": [],
   "source": []
  }
 ],
 "metadata": {
  "kernelspec": {
   "display_name": "Python 3 (ipykernel)",
   "language": "python",
   "name": "python3"
  },
  "language_info": {
   "codemirror_mode": {
    "name": "ipython",
    "version": 3
   },
   "file_extension": ".py",
   "mimetype": "text/x-python",
   "name": "python",
   "nbconvert_exporter": "python",
   "pygments_lexer": "ipython3",
   "version": "3.9.7"
  }
 },
 "nbformat": 4,
 "nbformat_minor": 5
}
