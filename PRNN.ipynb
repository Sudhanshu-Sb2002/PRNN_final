{
 "cells": [
  {
   "cell_type": "markdown",
   "id": "5511cbee",
   "metadata": {},
   "source": [
    "<center><h2>Binary Classifier of mdmnist Breast cancer images</h2></center>"
   ]
  },
  {
   "cell_type": "code",
   "execution_count": 3,
   "id": "bf832ae0-e73e-49b5-8112-cbf6ebe7ab66",
   "metadata": {},
   "outputs": [],
   "source": [
    "# all the imports are listed here\n",
    "import numpy as np \n",
    "import matplotlib.pyplot as plt\n",
    "import sklearn.metrics as metrics\n",
    "# NO SKLEARN HAS BEEN USED FOR MACHINE LEARNING, only the METRICS subpackage has been imported to compute AUC, F1 scores and so on."
   ]
  },
  {
   "cell_type": "markdown",
   "id": "542da3c9",
   "metadata": {},
   "source": [
    "Lets import the required data and noramalise it as required.\n",
    "    "
   ]
  },
  {
   "cell_type": "code",
   "execution_count": 5,
   "id": "6d400ae3",
   "metadata": {},
   "outputs": [],
   "source": [
    "inputpath=\"breastmnist.npz\"\n",
    "train_images, val_images, test_images, train_labels, val_labels, test_labels = load_input(inputpath)\n"
   ]
  },
  {
   "cell_type": "code",
   "execution_count": 4,
   "id": "963d8bac",
   "metadata": {
    "tags": []
   },
   "outputs": [],
   "source": [
    "def load_input(inputpath):\n",
    "    folder = np.load(inputpath)\n",
    "    files = folder.files\n",
    "    # print(files)\n",
    "    # First we load the images and the labels\n",
    "    un_train_images = folder['train_images.npy']\n",
    "    un_val_images = folder['val_images.npy']\n",
    "    un_test_images = folder['test_images.npy']\n",
    "    train_labels = folder['train_labels.npy']\n",
    "    val_labels = folder['val_labels.npy']\n",
    "    test_labels = folder['test_labels.npy']\n",
    "    # Then we normalize the images\n",
    "    train_images = normalize_images(un_train_images)\n",
    "    val_images = normalize_images(un_val_images)\n",
    "    test_images = normalize_images(un_test_images)\n",
    "    return train_images, val_images, test_images, train_labels, val_labels, test_labels\n",
    "\n",
    "\n",
    "def normalize_images(images: np):\n",
    "    new_images = np.zeros((images.shape[0], images.shape[1] * images.shape[2]))\n",
    "    for i in range(images.shape[0]):\n",
    "        new_images[i] = images[i].flatten()\n",
    "    new_images = new_images.astype(np.float32)\n",
    "    new_images /= 255.0\n",
    "    return new_images"
   ]
  },
  {
   "cell_type": "markdown",
   "id": "3aedad41",
   "metadata": {},
   "source": [
    "Lets get started with and try to solve this problem using various methods and test them using the scoring methods "
   ]
  },
  {
   "cell_type": "markdown",
   "id": "4a3cae0d",
   "metadata": {},
   "source": [
    "<center> <h3> K Nearest Neighbours</h3> </center>\n",
    "Lets get right to it and write up the  core function to perform KNN"
   ]
  },
  {
   "cell_type": "code",
   "execution_count": 8,
   "id": "453d06ab",
   "metadata": {
    "jupyter": {
     "source_hidden": true
    },
    "tags": []
   },
   "outputs": [],
   "source": [
    "def knn_naive(X_train, Y_train, X_test, *, k=5, metric=2):\n",
    "    # First we difeine a small function to return the k smallet elements of an array\n",
    "    def k_smallest(arr, k):\n",
    "        x = []\n",
    "        min = np.inf\n",
    "        pos_min = -1\n",
    "        for i in range(k):\n",
    "            for i in range(len(arr)):\n",
    "                if arr[i] < min and i not in x:\n",
    "                    min = arr[i]\n",
    "                    pos_min = i\n",
    "            if pos_min != -1:\n",
    "                x.append(pos_min)\n",
    "                min = np.inf\n",
    "                pos_min = -1\n",
    "        return x\n",
    "\n",
    "    Y_test_predicted = np.zeros((X_test.shape[0], 1))\n",
    "    if k == 0:\n",
    "        return Y_test_predicted\n",
    "    for i in range(X_test.shape[0]):\n",
    "        distances = np.linalg.norm(np.abs(X_train - X_test[i, :]), ord=metric, axis=1)\n",
    "\n",
    "        nearest = k_smallest(distances, k)\n",
    "        topk_y = [i[0] for i in Y_train[nearest[:k]]]\n",
    "        Y_test_predicted[i] = [np.argmax(np.bincount(topk_y))]\n",
    "\n",
    "    return Y_test_predicted\n"
   ]
  },
  {
   "cell_type": "markdown",
   "id": "032684fd-d242-42e2-97ef-3bf1c6a7b982",
   "metadata": {},
   "source": [
    "Lets now run a small experiment, giving different values of k for KN"
   ]
  },
  {
   "cell_type": "code",
   "execution_count": 11,
   "id": "0c7df03f-df75-49f0-8e05-e771edb190a4",
   "metadata": {},
   "outputs": [
    {
     "name": "stdout",
     "output_type": "stream",
     "text": [
      "[ 0.  1.  2.  3.  4.  5.  6.  7.  8.  9. 10. 11. 12. 13. 14. 15. 16. 17.\n",
      " 18. 19. 20. 21. 22. 23. 24.] [0.26923077 0.77564103 0.67307692 0.75641026 0.73717949 0.77564103\n",
      " 0.79487179 0.80128205 0.80769231 0.80769231 0.80128205 0.78846154\n",
      " 0.78846154 0.78846154 0.79487179 0.75641026 0.77564103 0.75\n",
      " 0.76923077 0.78846154 0.76923077 0.76923077 0.77564103 0.77564103\n",
      " 0.77564103] [0.5        0.73370927 0.70112782 0.6754386  0.69235589 0.6660401\n",
      " 0.70927318 0.66102757 0.70300752 0.65789474 0.69110276 0.64473684\n",
      " 0.66729323 0.65225564 0.67919799 0.60025063 0.64348371 0.58834586\n",
      " 0.62406015 0.62218045 0.61654135 0.59398496 0.60588972 0.59837093\n",
      " 0.59837093] [0.         0.84304933 0.74111675 0.8362069  0.81447964 0.85477178\n",
      " 0.86440678 0.87649402 0.87603306 0.88188976 0.87242798 0.8685259\n",
      " 0.86530612 0.86746988 0.86885246 0.84920635 0.8582996  0.8458498\n",
      " 0.856      0.87159533 0.85714286 0.86046512 0.86381323 0.86486486\n",
      " 0.86486486]\n"
     ]
    },
    {
     "data": {
      "text/plain": "<Figure size 432x288 with 1 Axes>",
      "image/png": "[encoded data removed]"
     },
     "metadata": {
      "needs_background": "light"
     },
     "output_type": "display_data"
    }
   ],
   "source": [
    "k_max=25\n",
    "x_graph = np.zeros(k_max)\n",
    "AUCscores = np.zeros(x_graph.size)\n",
    "ACCscores = np.zeros(x_graph.size)\n",
    "F1scores = np.zeros(x_graph.size)\n",
    "for k in range(0, k_max):\n",
    "    test_pred = knn_naive(train_images, train_labels, test_images, k=k, metric=2)\n",
    "    x_graph[k] = k\n",
    "    F1scores[k] =metrics.f1_score(test_labels,test_pred)\n",
    "    ACCscores[k] =metrics.accuracy_score(test_labels,test_pred)\n",
    "    AUCscores[k] =metrics.roc_auc_score(test_labels,test_pred)\n",
    "plotter(x_graph,AUCscores,ACCscores,F1scores,\"KNN for single image classification\",\"K value\")"
   ]
  },
  {
   "cell_type": "code",
   "execution_count": 10,
   "outputs": [],
   "source": [
    "def plotter(x_graph, AUCscores, ACCscores, F1scores, title, xlabel):\n",
    "    print(x_graph, ACCscores, AUCscores, F1scores)\n",
    "    plt.plot(x_graph, AUCscores)\n",
    "    plt.plot(x_graph, ACCscores)\n",
    "    plt.plot(x_graph, F1scores)\n",
    "    plt.xlabel(xlabel)\n",
    "    plt.ylabel('Scores')\n",
    "    plt.title(title)\n",
    "    plt.ylim(0.5,1)\n",
    "    plt.grid(True, which='both')\n",
    "    plt.legend(['AUC', 'ACC', 'F1'])\n",
    "    plt.show()"
   ],
   "metadata": {
    "collapsed": false,
    "pycharm": {
     "name": "#%%\n"
    }
   }
  },
  {
   "cell_type": "code",
   "execution_count": null,
   "outputs": [],
   "source": [],
   "metadata": {
    "collapsed": false,
    "pycharm": {
     "name": "#%%\n"
    }
   }
  }
 ],
 "metadata": {
  "kernelspec": {
   "display_name": "Python 3 (ipykernel)",
   "language": "python",
   "name": "python3"
  },
  "language_info": {
   "codemirror_mode": {
    "name": "ipython",
    "version": 3
   },
   "file_extension": ".py",
   "mimetype": "text/x-python",
   "name": "python",
   "nbconvert_exporter": "python",
   "pygments_lexer": "ipython3",
   "version": "3.9.7"
  }
 },
 "nbformat": 4,
 "nbformat_minor": 5
}