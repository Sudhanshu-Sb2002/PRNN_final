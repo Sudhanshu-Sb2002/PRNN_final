{
 "cells": [
  {
   "cell_type": "markdown",
   "id": "5511cbee",
   "metadata": {},
   "source": [
    "<center><h2>Binary Classifier of mdmnist Breast cancer images</h2></center>"
   ]
  },
  {
   "cell_type": "code",
   "execution_count": 10,
   "id": "bf832ae0-e73e-49b5-8112-cbf6ebe7ab66",
   "metadata": {},
   "outputs": [],
   "source": [
    "# all the imports are listed here\n",
    "import numpy as np \n",
    "import matplotlib.pyplot as plt\n",
    "import sklearn.metrics as metrics\n",
    "# NO SKLEARN HAS BEEN USED FOR MACHINE LEARNING, only the METRICS subpackage has been imported to compute AUC, F1 scores and so on."
   ]
  },
  {
   "cell_type": "markdown",
   "id": "542da3c9",
   "metadata": {},
   "source": [
    "Lets import the required data and noramalise it as required.\n",
    "    "
   ]
  },
  {
   "cell_type": "code",
   "execution_count": 5,
   "id": "6d400ae3",
   "metadata": {},
   "outputs": [],
   "source": [
    "inputpath=\"breastmnist.npz\"\n",
    "train_images, val_images, test_images, train_labels, val_labels, test_labels = load_input(inputpath)\n"
   ]
  },
  {
   "cell_type": "code",
   "execution_count": 4,
   "id": "963d8bac",
   "metadata": {
    "tags": []
   },
   "outputs": [],
   "source": [
    "def load_input(inputpath):\n",
    "    folder = np.load(inputpath)\n",
    "    files = folder.files\n",
    "    # print(files)\n",
    "    # First we load the images and the labels\n",
    "    un_train_images = folder['train_images.npy']\n",
    "    un_val_images = folder['val_images.npy']\n",
    "    un_test_images = folder['test_images.npy']\n",
    "    train_labels = folder['train_labels.npy']\n",
    "    val_labels = folder['val_labels.npy']\n",
    "    test_labels = folder['test_labels.npy']\n",
    "    # Then we normalize the images\n",
    "    train_images = normalize_images(un_train_images)\n",
    "    val_images = normalize_images(un_val_images)\n",
    "    test_images = normalize_images(un_test_images)\n",
    "    return train_images, val_images, test_images, train_labels, val_labels, test_labels\n",
    "\n",
    "\n",
    "def normalize_images(images: np):\n",
    "    new_images = np.zeros((images.shape[0], images.shape[1] * images.shape[2]))\n",
    "    for i in range(images.shape[0]):\n",
    "        new_images[i] = images[i].flatten()\n",
    "    new_images = new_images.astype(np.float32)\n",
    "    new_images /= 255.0\n",
    "    return new_images"
   ]
  },
  {
   "cell_type": "markdown",
   "id": "3aedad41",
   "metadata": {},
   "source": [
    "Lets get started with and try to solve this problem using various methods and test them using the scoring methods "
   ]
  },
  {
   "cell_type": "markdown",
   "id": "4a3cae0d",
   "metadata": {},
   "source": [
    "<center> <h3> K Nearest Neighbours</h3> </center>\n",
    "Lets get right to it and write up the  core function to perform KNN"
   ]
  },
  {
   "cell_type": "code",
   "execution_count": 9,
   "id": "453d06ab",
   "metadata": {
    "jupyter": {
     "source_hidden": true
    },
    "tags": []
   },
   "outputs": [],
   "source": [
    "def knn_naive(X_train, Y_train, X_test, *, k=5, metric=2):\n",
    "    # First we difeine a small function to return the k smallet elements of an array\n",
    "    def k_smallest(arr, k):\n",
    "        x = []\n",
    "        min = np.inf\n",
    "        pos_min = -1\n",
    "        for i in range(k):\n",
    "            for i in range(len(arr)):\n",
    "                if arr[i] < min and i not in x:\n",
    "                    min = arr[i]\n",
    "                    pos_min = i\n",
    "            if pos_min != -1:\n",
    "                x.append(pos_min)\n",
    "                min = np.inf\n",
    "                pos_min = -1\n",
    "        return x\n",
    "\n",
    "    Y_test_predicted = np.zeros((X_test.shape[0], 1))\n",
    "    if k == 0:\n",
    "        return Y_test_predicted\n",
    "    for i in range(X_test.shape[0]):\n",
    "        distances = np.linalg.norm(np.abs(X_train - X_test[i, :]), ord=metric, axis=1)\n",
    "\n",
    "        nearest = k_smallest(distances, k)\n",
    "        topk_y = [i[0] for i in Y_train[nearest[:k]]]\n",
    "        Y_test_predicted[i] = [np.argmax(np.bincount(topk_y))]\n",
    "\n",
    "    return Y_test_predicted\n"
   ]
  },
  {
   "cell_type": "markdown",
   "id": "032684fd-d242-42e2-97ef-3bf1c6a7b982",
   "metadata": {},
   "source": [
    "Lets now run a small experiment, giving different values of k for KNN"
   ]
  }
 ],
 "metadata": {
  "kernelspec": {
   "display_name": "Python 3 (ipykernel)",
   "language": "python",
   "name": "python3"
  },
  "language_info": {
   "codemirror_mode": {
    "name": "ipython",
    "version": 3
   },
   "file_extension": ".py",
   "mimetype": "text/x-python",
   "name": "python",
   "nbconvert_exporter": "python",
   "pygments_lexer": "ipython3",
   "version": "3.9.7"
  }
 },
 "nbformat": 4,
 "nbformat_minor": 5
}
